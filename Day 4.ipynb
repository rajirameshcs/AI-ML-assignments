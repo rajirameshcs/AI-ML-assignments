{
 "cells": [
  {
   "cell_type": "markdown",
   "metadata": {},
   "source": [
    "1. operations on complex numbers - can't do mod & floor of complex numbers"
   ]
  },
  {
   "cell_type": "code",
   "execution_count": 5,
   "metadata": {},
   "outputs": [
    {
     "name": "stdout",
     "output_type": "stream",
     "text": [
      "(14+0j)\n",
      "(-6+10j)\n",
      "(65+30j)\n",
      "(0.12+0.56j)\n"
     ]
    }
   ],
   "source": [
    "c1=4+5j\n",
    "c2=10-5j\n",
    "print(c1+c2)\n",
    "print(c1-c2)\n",
    "print(c1*c2)\n",
    "print(c1/c2)\n",
    "#print(c1%c2)\n",
    "#print(c1//c2)"
   ]
  },
  {
   "cell_type": "markdown",
   "metadata": {},
   "source": [
    "2. range()"
   ]
  },
  {
   "cell_type": "markdown",
   "metadata": {},
   "source": [
    "range() function is used to generate a sequence of numbers. it can be represented in 3 ways:\n",
    "1. range(stop value) - this generates a range of values with stop value as the last one\n",
    "2. range(start,end) - this generates sequence starting from start value to end value, stepping by 1\n",
    "3. range(start,end,step value) - this takes into consideration the stepping values as well\n",
    "\n",
    "range() works only with integer and whole numbers. It can'thandle floating point values."
   ]
  },
  {
   "cell_type": "code",
   "execution_count": 11,
   "metadata": {},
   "outputs": [
    {
     "name": "stdout",
     "output_type": "stream",
     "text": [
      "0\n",
      "1\n",
      "2\n",
      "3\n",
      "4\n",
      "10\n",
      "9\n",
      "8\n",
      "7\n",
      "6\n"
     ]
    }
   ],
   "source": [
    "range(5)\n",
    "range(-2,10)\n",
    "for i in range(5):\n",
    "    print (i)\n",
    "for j in range(10,5,-1):\n",
    "    print(j)"
   ]
  },
  {
   "cell_type": "markdown",
   "metadata": {},
   "source": [
    "3. question 3"
   ]
  },
  {
   "cell_type": "code",
   "execution_count": 12,
   "metadata": {},
   "outputs": [
    {
     "name": "stdout",
     "output_type": "stream",
     "text": [
      "4500\n"
     ]
    }
   ],
   "source": [
    "a=100\n",
    "b=45\n",
    "if(a-b)>25:\n",
    "    print(a*b)\n",
    "else:\n",
    "    print(a/b)"
   ]
  },
  {
   "cell_type": "markdown",
   "metadata": {},
   "source": [
    "4. question 4"
   ]
  },
  {
   "cell_type": "code",
   "execution_count": 14,
   "metadata": {},
   "outputs": [
    {
     "name": "stdout",
     "output_type": "stream",
     "text": [
      "2\n",
      "14\n",
      "34\n",
      "62\n",
      "98\n"
     ]
    }
   ],
   "source": [
    "list1 =[1,2,3,4,5,6,7,8,9,10]\n",
    "for i in list1:\n",
    "    if i%2 ==0:\n",
    "        print(i*i-2)"
   ]
  },
  {
   "cell_type": "markdown",
   "metadata": {},
   "source": [
    "5. question 5"
   ]
  },
  {
   "cell_type": "code",
   "execution_count": 17,
   "metadata": {},
   "outputs": [
    {
     "name": "stdout",
     "output_type": "stream",
     "text": [
      "41\n",
      "39\n",
      "45\n",
      "32\n",
      "100\n"
     ]
    }
   ],
   "source": [
    "list1=[7,41,39,45,1,0,32,3,10,100]\n",
    "for i in list1:\n",
    "    if i/2>7:\n",
    "        print(i)"
   ]
  }
 ],
 "metadata": {
  "kernelspec": {
   "display_name": "Python 3",
   "language": "python",
   "name": "python3"
  },
  "language_info": {
   "codemirror_mode": {
    "name": "ipython",
    "version": 3
   },
   "file_extension": ".py",
   "mimetype": "text/x-python",
   "name": "python",
   "nbconvert_exporter": "python",
   "pygments_lexer": "ipython3",
   "version": "3.6.4"
  }
 },
 "nbformat": 4,
 "nbformat_minor": 2
}
